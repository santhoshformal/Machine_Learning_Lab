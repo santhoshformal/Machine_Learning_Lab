{
 "cells": [
  {
   "cell_type": "code",
   "execution_count": 2,
   "id": "c0ba6480",
   "metadata": {},
   "outputs": [
    {
     "name": "stdout",
     "output_type": "stream",
     "text": [
      "   TransactionID TransactionDate  UserID  ProductID  Quantity\n",
      "0              1      2010-08-21     7.0          2         1\n",
      "1              2      2011-05-26     3.0          4         1\n"
     ]
    }
   ],
   "source": [
    "import pandas as pd\n",
    "df=pd.read_csv(\"transactions.csv\")\n",
    "print(df.head(2))"
   ]
  },
  {
   "cell_type": "code",
   "execution_count": 3,
   "id": "d9bb96dc",
   "metadata": {},
   "outputs": [
    {
     "name": "stdout",
     "output_type": "stream",
     "text": [
      "   TransactionID TransactionDate  UserID  ProductID  Quantity\n",
      "0              1      2010-08-21     7.0          2         1\n",
      "1              2      2011-05-26     3.0          4         1\n",
      "2              3      2011-06-16     3.0          3         1\n",
      "3              4      2012-08-26     1.0          2         3\n",
      "4              5      2013-06-06     2.0          4         1\n",
      "5              6      2013-12-23     2.0          5         6\n",
      "6              7      2013-12-30     3.0          4         1\n",
      "7              8      2014-04-24     NaN          2         3\n",
      "8              9      2015-04-24     7.0          4         3\n",
      "9             10      2016-05-08     3.0          4         4\n"
     ]
    }
   ],
   "source": [
    "print(df.tail(10))"
   ]
  },
  {
   "cell_type": "code",
   "execution_count": 4,
   "id": "e3ce71c7",
   "metadata": {},
   "outputs": [
    {
     "name": "stdout",
     "output_type": "stream",
     "text": [
      "   TransactionID TransactionDate  UserID  ProductID  Quantity\n",
      "0              1      2010-08-21     7.0          2         1\n",
      "1              2      2011-05-26     3.0          4         1\n",
      "2              3      2011-06-16     3.0          3         1\n",
      "3              4      2012-08-26     1.0          2         3\n",
      "4              5      2013-06-06     2.0          4         1\n",
      "5              6      2013-12-23     2.0          5         6\n",
      "6              7      2013-12-30     3.0          4         1\n",
      "7              8      2014-04-24     NaN          2         3\n",
      "8              9      2015-04-24     7.0          4         3\n",
      "9             10      2016-05-08     3.0          4         4\n"
     ]
    }
   ],
   "source": [
    "print(df.tail(100))"
   ]
  },
  {
   "cell_type": "code",
   "execution_count": 5,
   "id": "7a4e8dc6",
   "metadata": {},
   "outputs": [
    {
     "name": "stdout",
     "output_type": "stream",
     "text": [
      "<class 'pandas.core.frame.DataFrame'>\n",
      "RangeIndex: 10 entries, 0 to 9\n",
      "Data columns (total 5 columns):\n",
      " #   Column           Non-Null Count  Dtype  \n",
      "---  ------           --------------  -----  \n",
      " 0   TransactionID    10 non-null     int64  \n",
      " 1   TransactionDate  10 non-null     object \n",
      " 2   UserID           9 non-null      float64\n",
      " 3   ProductID        10 non-null     int64  \n",
      " 4   Quantity         10 non-null     int64  \n",
      "dtypes: float64(1), int64(3), object(1)\n",
      "memory usage: 532.0+ bytes\n",
      "None\n"
     ]
    }
   ],
   "source": [
    "print(df.info())"
   ]
  },
  {
   "cell_type": "code",
   "execution_count": 8,
   "id": "9fbd984f",
   "metadata": {},
   "outputs": [
    {
     "name": "stdout",
     "output_type": "stream",
     "text": [
      "   TransactionID TransactionDate  UserID  ProductID  quantity\n",
      "0              1      2010-08-21     7.0          2         1\n",
      "1              2      2011-05-26     3.0          4         1\n",
      "2              3      2011-06-16     3.0          3         1\n",
      "3              4      2012-08-26     1.0          2         3\n",
      "4              5      2013-06-06     2.0          4         1\n",
      "5              6      2013-12-23     2.0          5         6\n",
      "6              7      2013-12-30     3.0          4         1\n",
      "7              8      2014-04-24     NaN          2         3\n",
      "8              9      2015-04-24     7.0          4         3\n",
      "9             10      2016-05-08     3.0          4         4\n"
     ]
    }
   ],
   "source": [
    "df.rename(columns={\"Quantity\":\"quantity\"},inplace=True)\n",
    "print(df)"
   ]
  },
  {
   "cell_type": "code",
   "execution_count": 11,
   "id": "51988717",
   "metadata": {},
   "outputs": [
    {
     "name": "stdout",
     "output_type": "stream",
     "text": [
      "   TransactionID TransactionDate  userID  ProductID  quantity\n",
      "0              1      2010-08-21     7.0          2         1\n",
      "1              2      2011-05-26     3.0          4         1\n",
      "2              3      2011-06-16     3.0          3         1\n",
      "3              4      2012-08-26     1.0          2         3\n",
      "4              5      2013-06-06     2.0          4         1\n",
      "5              6      2013-12-23     2.0          5         6\n",
      "6              7      2013-12-30     3.0          4         1\n",
      "7              8      2014-04-24     NaN          2         3\n",
      "8              9      2015-04-24     7.0          4         3\n",
      "9             10      2016-05-08     3.0          4         4\n"
     ]
    }
   ],
   "source": [
    "df.rename(columns={\"UserID\":\"userID\"},inplace=True)\n",
    "print(df)"
   ]
  },
  {
   "cell_type": "code",
   "execution_count": 21,
   "id": "a94822a1",
   "metadata": {},
   "outputs": [
    {
     "name": "stdout",
     "output_type": "stream",
     "text": [
      "Today's date:\n",
      "2025-01-28 15:21:21\n"
     ]
    }
   ],
   "source": [
    "from datetime import datetime\n",
    "#now=pd.to_datetime(str(datetime()),format='%Y-%m-%d',str(time.now()),format=\"%H:%m:%s\")\n",
    "now = pd.to_datetime(datetime.now().strftime('%Y-%m-%d %H:%M:%S'))\n",
    "\n",
    "print(\"Today's date:\")\n",
    "print(now)"
   ]
  },
  {
   "cell_type": "code",
   "execution_count": 22,
   "id": "d7a3d4aa",
   "metadata": {},
   "outputs": [
    {
     "name": "stdout",
     "output_type": "stream",
     "text": [
      "Tenth row from the file\n",
      "[10 '2016-05-08' 3.0 4 4]\n"
     ]
    }
   ],
   "source": [
    "tenth_row=df.iloc[9].values\n",
    "print(\"Tenth row from the file\")\n",
    "print(tenth_row)"
   ]
  },
  {
   "cell_type": "code",
   "execution_count": 23,
   "id": "2f53ed45",
   "metadata": {},
   "outputs": [
    {
     "name": "stdout",
     "output_type": "stream",
     "text": [
      "   TransactionID TransactionDate  userID  ProductID  quantity\n",
      "0              1      2010-08-21     7.0          2         1\n",
      "2              3      2011-06-16     3.0          3         1\n",
      "5              6      2013-12-23     2.0          5         6\n"
     ]
    }
   ],
   "source": [
    "subset_rows=df.iloc[[0,2,5]]\n",
    "print(subset_rows)"
   ]
  },
  {
   "cell_type": "code",
   "execution_count": 34,
   "id": "f356b988",
   "metadata": {},
   "outputs": [
    {
     "name": "stdout",
     "output_type": "stream",
     "text": [
      "   TransactionID TransactionDate  userID  ProductID  quantity\n",
      "0              1      2010-08-21     7.0          2         1\n",
      "2              3      2011-06-16     3.0          3         1\n",
      "5              6      2013-12-23     2.0          5         6\n",
      "7              8      2014-04-24     NaN          2         3\n"
     ]
    }
   ],
   "source": [
    "filter = [True,False,True,False,False,True,False,True,False,False]\n",
    "subset_rows=df[filter]\n",
    "print(subset_rows)"
   ]
  },
  {
   "cell_type": "code",
   "execution_count": null,
   "id": "c94e0b8a",
   "metadata": {},
   "outputs": [],
   "source": [
    "#Print Summary of transaction data set"
   ]
  },
  {
   "cell_type": "code",
   "execution_count": 26,
   "id": "d80af528",
   "metadata": {},
   "outputs": [
    {
     "name": "stdout",
     "output_type": "stream",
     "text": [
      "       TransactionID    userID  ProductID   quantity\n",
      "count       10.00000  9.000000  10.000000  10.000000\n",
      "mean         5.50000  3.444444   3.400000   2.400000\n",
      "std          3.02765  2.127858   1.074968   1.712698\n",
      "min          1.00000  1.000000   2.000000   1.000000\n",
      "25%          3.25000  2.000000   2.250000   1.000000\n",
      "50%          5.50000  3.000000   4.000000   2.000000\n",
      "75%          7.75000  3.000000   4.000000   3.000000\n",
      "max         10.00000  7.000000   5.000000   6.000000\n"
     ]
    }
   ],
   "source": [
    "print(df.describe())"
   ]
  },
  {
   "cell_type": "code",
   "execution_count": 27,
   "id": "0d2eb84d",
   "metadata": {},
   "outputs": [
    {
     "name": "stdout",
     "output_type": "stream",
     "text": [
      "<class 'pandas.core.frame.DataFrame'>\n",
      "RangeIndex: 10 entries, 0 to 9\n",
      "Data columns (total 5 columns):\n",
      " #   Column           Non-Null Count  Dtype  \n",
      "---  ------           --------------  -----  \n",
      " 0   TransactionID    10 non-null     int64  \n",
      " 1   TransactionDate  10 non-null     object \n",
      " 2   userID           9 non-null      float64\n",
      " 3   ProductID        10 non-null     int64  \n",
      " 4   quantity         10 non-null     int64  \n",
      "dtypes: float64(1), int64(3), object(1)\n",
      "memory usage: 532.0+ bytes\n",
      "None\n"
     ]
    }
   ],
   "source": [
    "print(df.info())"
   ]
  },
  {
   "cell_type": "code",
   "execution_count": 28,
   "id": "a87f86b9",
   "metadata": {},
   "outputs": [
    {
     "name": "stdout",
     "output_type": "stream",
     "text": [
      "Number of Attributes are 5\n"
     ]
    }
   ],
   "source": [
    "print(\"Number of Attributes are\",len(df.columns))"
   ]
  },
  {
   "cell_type": "code",
   "execution_count": 32,
   "id": "99d64a88",
   "metadata": {},
   "outputs": [
    {
     "name": "stdout",
     "output_type": "stream",
     "text": [
      "Number of Record are 10\n"
     ]
    }
   ],
   "source": [
    "print(\"Number of Record are\",len(df))"
   ]
  },
  {
   "cell_type": "code",
   "execution_count": null,
   "id": "014aeb22",
   "metadata": {},
   "outputs": [],
   "source": [
    "#Get the column names"
   ]
  },
  {
   "cell_type": "code",
   "execution_count": 36,
   "id": "8ce666f3",
   "metadata": {},
   "outputs": [
    {
     "name": "stdout",
     "output_type": "stream",
     "text": [
      "Index(['TransactionID', 'TransactionDate', 'userID', 'ProductID', 'quantity'], dtype='object')\n"
     ]
    }
   ],
   "source": [
    "row_names = df.columns\n",
    "print(row_names)"
   ]
  },
  {
   "cell_type": "code",
   "execution_count": null,
   "id": "14ca71b0",
   "metadata": {},
   "outputs": [],
   "source": [
    "#Order the rows of transactions by TransactionId\n",
    "#descending, if ascending then ascending=True"
   ]
  },
  {
   "cell_type": "code",
   "execution_count": 42,
   "id": "bd12cbc7",
   "metadata": {},
   "outputs": [
    {
     "name": "stdout",
     "output_type": "stream",
     "text": [
      "   TransactionID TransactionDate  userID  ProductID  quantity\n",
      "0              1      2010-08-21     7.0          2         1\n",
      "1              2      2011-05-26     3.0          4         1\n",
      "2              3      2011-06-16     3.0          3         1\n",
      "3              4      2012-08-26     1.0          2         3\n",
      "4              5      2013-06-06     2.0          4         1\n",
      "5              6      2013-12-23     2.0          5         6\n",
      "6              7      2013-12-30     3.0          4         1\n",
      "7              8      2014-04-24     NaN          2         3\n",
      "8              9      2015-04-24     7.0          4         3\n",
      "9             10      2016-05-08     3.0          4         4\n"
     ]
    }
   ],
   "source": [
    "df_Arranged=df.sort_values(by=[\"TransactionID\"],ascending=[True])\n",
    "print(df_Arranged)"
   ]
  },
  {
   "cell_type": "code",
   "execution_count": 44,
   "id": "bdf4662f",
   "metadata": {},
   "outputs": [
    {
     "name": "stdout",
     "output_type": "stream",
     "text": [
      "   TransactionID TransactionDate  userID  ProductID  quantity\n",
      "9             10      2016-05-08     3.0          4         4\n",
      "8              9      2015-04-24     7.0          4         3\n",
      "7              8      2014-04-24     NaN          2         3\n",
      "6              7      2013-12-30     3.0          4         1\n",
      "5              6      2013-12-23     2.0          5         6\n",
      "4              5      2013-06-06     2.0          4         1\n",
      "3              4      2012-08-26     1.0          2         3\n",
      "2              3      2011-06-16     3.0          3         1\n",
      "1              2      2011-05-26     3.0          4         1\n",
      "0              1      2010-08-21     7.0          2         1\n"
     ]
    }
   ],
   "source": [
    "df_Arranged=df.sort_values(by=[\"TransactionID\"],ascending=[False])\n",
    "print(df_Arranged)"
   ]
  },
  {
   "cell_type": "code",
   "execution_count": 45,
   "id": "247b1922",
   "metadata": {},
   "outputs": [
    {
     "name": "stdout",
     "output_type": "stream",
     "text": [
      "   TransactionID TransactionDate  userID  ProductID  quantity\n",
      "6              7      2013-12-30     3.0          4         1\n",
      "4              5      2013-06-06     2.0          4         1\n",
      "2              3      2011-06-16     3.0          3         1\n",
      "1              2      2011-05-26     3.0          4         1\n",
      "0              1      2010-08-21     7.0          2         1\n",
      "8              9      2015-04-24     7.0          4         3\n",
      "7              8      2014-04-24     NaN          2         3\n",
      "3              4      2012-08-26     1.0          2         3\n",
      "9             10      2016-05-08     3.0          4         4\n",
      "5              6      2013-12-23     2.0          5         6\n"
     ]
    }
   ],
   "source": [
    "df_Arranged=df.sort_values(by=[\"quantity\",\"TransactionID\"],ascending=[True,False])\n",
    "print(df_Arranged)"
   ]
  },
  {
   "cell_type": "code",
   "execution_count": null,
   "id": "555c0fb6",
   "metadata": {},
   "outputs": [],
   "source": [
    "#Set the column order of Transactions as ProductID,Quantity, TransactionDate, TransactionID, UserID"
   ]
  },
  {
   "cell_type": "code",
   "execution_count": 47,
   "id": "1ebca209",
   "metadata": {},
   "outputs": [
    {
     "name": "stdout",
     "output_type": "stream",
     "text": [
      "   ProductID  quantity TransactionDate  TransactionID  userID\n",
      "0          2         1      2010-08-21              1     7.0\n",
      "1          4         1      2011-05-26              2     3.0\n",
      "2          3         1      2011-06-16              3     3.0\n",
      "3          2         3      2012-08-26              4     1.0\n",
      "4          4         1      2013-06-06              5     2.0\n",
      "5          5         6      2013-12-23              6     2.0\n",
      "6          4         1      2013-12-30              7     3.0\n",
      "7          2         3      2014-04-24              8     NaN\n",
      "8          4         3      2015-04-24              9     7.0\n",
      "9          4         4      2016-05-08             10     3.0\n"
     ]
    }
   ],
   "source": [
    "df=df[[\"ProductID\",\"quantity\",\"TransactionDate\",\"TransactionID\",\"userID\"]]\n",
    "print(df)"
   ]
  },
  {
   "cell_type": "code",
   "execution_count": null,
   "id": "ff2189c5",
   "metadata": {},
   "outputs": [],
   "source": [
    "#Make UserID the first column of transactions"
   ]
  },
  {
   "cell_type": "code",
   "execution_count": 48,
   "id": "c6c47e8f",
   "metadata": {},
   "outputs": [
    {
     "name": "stdout",
     "output_type": "stream",
     "text": [
      "   userID  ProductID  quantity TransactionDate  TransactionID\n",
      "0     7.0          2         1      2010-08-21              1\n",
      "1     3.0          4         1      2011-05-26              2\n",
      "2     3.0          3         1      2011-06-16              3\n",
      "3     1.0          2         3      2012-08-26              4\n",
      "4     2.0          4         1      2013-06-06              5\n",
      "5     2.0          5         6      2013-12-23              6\n",
      "6     3.0          4         1      2013-12-30              7\n",
      "7     NaN          2         3      2014-04-24              8\n",
      "8     7.0          4         3      2015-04-24              9\n",
      "9     3.0          4         4      2016-05-08             10\n"
     ]
    }
   ],
   "source": [
    "df=df[[\"userID\",\"ProductID\",\"quantity\",\"TransactionDate\",\"TransactionID\"]]\n",
    "print(df)"
   ]
  },
  {
   "cell_type": "code",
   "execution_count": null,
   "id": "7dc7314f",
   "metadata": {},
   "outputs": [],
   "source": [
    "#Extracting arrays from a Data Frame. Get the 2nd column"
   ]
  },
  {
   "cell_type": "code",
   "execution_count": 52,
   "id": "5c1bbf6a",
   "metadata": {},
   "outputs": [
    {
     "name": "stdout",
     "output_type": "stream",
     "text": [
      "[2 4 3 2 4 5 4 2 4 4]\n"
     ]
    }
   ],
   "source": [
    "second_column=df.iloc[:,1].to_numpy()\n",
    "print(second_column)"
   ]
  },
  {
   "cell_type": "code",
   "execution_count": 54,
   "id": "eaf34544",
   "metadata": {},
   "outputs": [
    {
     "name": "stdout",
     "output_type": "stream",
     "text": [
      "[2 4 3 2 4 5 4 2 4 4]\n"
     ]
    }
   ],
   "source": [
    "ProductID=df[\"ProductID\"].to_numpy()\n",
    "print(ProductID)"
   ]
  },
  {
   "cell_type": "code",
   "execution_count": null,
   "id": "76251a32",
   "metadata": {},
   "outputs": [],
   "source": [
    "#Row subsetting, subset rows 1,3 and 6"
   ]
  },
  {
   "cell_type": "code",
   "execution_count": 55,
   "id": "b0cc0a72",
   "metadata": {},
   "outputs": [
    {
     "name": "stdout",
     "output_type": "stream",
     "text": [
      "   userID  ProductID  quantity TransactionDate  TransactionID\n",
      "0     7.0          2         1      2010-08-21              1\n",
      "2     3.0          3         1      2011-06-16              3\n",
      "5     2.0          5         6      2013-12-23              6\n"
     ]
    }
   ],
   "source": [
    "Subset_rows=df.iloc[[0,2,5]]\n",
    "print(Subset_rows)"
   ]
  },
  {
   "cell_type": "code",
   "execution_count": null,
   "id": "fb35e7d0",
   "metadata": {},
   "outputs": [],
   "source": [
    "#subset rows excluding 1,3 and 6"
   ]
  },
  {
   "cell_type": "code",
   "execution_count": 66,
   "id": "5eabf2aa",
   "metadata": {},
   "outputs": [
    {
     "name": "stdout",
     "output_type": "stream",
     "text": [
      "   userID  ProductID  quantity TransactionDate  TransactionID\n",
      "1     3.0          4         1      2011-05-26              2\n",
      "3     1.0          2         3      2012-08-26              4\n",
      "4     2.0          4         1      2013-06-06              5\n",
      "6     3.0          4         1      2013-12-30              7\n",
      "7     NaN          2         3      2014-04-24              8\n",
      "8     7.0          4         3      2015-04-24              9\n",
      "9     3.0          4         4      2016-05-08             10\n"
     ]
    }
   ],
   "source": [
    "excludeRows=[0,2,5]\n",
    "subSet=df.loc[[i for i in df.index if i not in excludeRows]]\n",
    "print(subSet)"
   ]
  },
  {
   "cell_type": "code",
   "execution_count": 67,
   "id": "2176333b",
   "metadata": {},
   "outputs": [
    {
     "data": {
      "text/html": [
       "<div>\n",
       "<style scoped>\n",
       "    .dataframe tbody tr th:only-of-type {\n",
       "        vertical-align: middle;\n",
       "    }\n",
       "\n",
       "    .dataframe tbody tr th {\n",
       "        vertical-align: top;\n",
       "    }\n",
       "\n",
       "    .dataframe thead th {\n",
       "        text-align: right;\n",
       "    }\n",
       "</style>\n",
       "<table border=\"1\" class=\"dataframe\">\n",
       "  <thead>\n",
       "    <tr style=\"text-align: right;\">\n",
       "      <th></th>\n",
       "      <th>userID</th>\n",
       "      <th>ProductID</th>\n",
       "      <th>quantity</th>\n",
       "      <th>TransactionDate</th>\n",
       "      <th>TransactionID</th>\n",
       "    </tr>\n",
       "  </thead>\n",
       "  <tbody>\n",
       "    <tr>\n",
       "      <th>1</th>\n",
       "      <td>3.0</td>\n",
       "      <td>4</td>\n",
       "      <td>1</td>\n",
       "      <td>2011-05-26</td>\n",
       "      <td>2</td>\n",
       "    </tr>\n",
       "    <tr>\n",
       "      <th>3</th>\n",
       "      <td>1.0</td>\n",
       "      <td>2</td>\n",
       "      <td>3</td>\n",
       "      <td>2012-08-26</td>\n",
       "      <td>4</td>\n",
       "    </tr>\n",
       "    <tr>\n",
       "      <th>4</th>\n",
       "      <td>2.0</td>\n",
       "      <td>4</td>\n",
       "      <td>1</td>\n",
       "      <td>2013-06-06</td>\n",
       "      <td>5</td>\n",
       "    </tr>\n",
       "    <tr>\n",
       "      <th>6</th>\n",
       "      <td>3.0</td>\n",
       "      <td>4</td>\n",
       "      <td>1</td>\n",
       "      <td>2013-12-30</td>\n",
       "      <td>7</td>\n",
       "    </tr>\n",
       "    <tr>\n",
       "      <th>7</th>\n",
       "      <td>NaN</td>\n",
       "      <td>2</td>\n",
       "      <td>3</td>\n",
       "      <td>2014-04-24</td>\n",
       "      <td>8</td>\n",
       "    </tr>\n",
       "    <tr>\n",
       "      <th>8</th>\n",
       "      <td>7.0</td>\n",
       "      <td>4</td>\n",
       "      <td>3</td>\n",
       "      <td>2015-04-24</td>\n",
       "      <td>9</td>\n",
       "    </tr>\n",
       "    <tr>\n",
       "      <th>9</th>\n",
       "      <td>3.0</td>\n",
       "      <td>4</td>\n",
       "      <td>4</td>\n",
       "      <td>2016-05-08</td>\n",
       "      <td>10</td>\n",
       "    </tr>\n",
       "  </tbody>\n",
       "</table>\n",
       "</div>"
      ],
      "text/plain": [
       "   userID  ProductID  quantity TransactionDate  TransactionID\n",
       "1     3.0          4         1      2011-05-26              2\n",
       "3     1.0          2         3      2012-08-26              4\n",
       "4     2.0          4         1      2013-06-06              5\n",
       "6     3.0          4         1      2013-12-30              7\n",
       "7     NaN          2         3      2014-04-24              8\n",
       "8     7.0          4         3      2015-04-24              9\n",
       "9     3.0          4         4      2016-05-08             10"
      ]
     },
     "execution_count": 67,
     "metadata": {},
     "output_type": "execute_result"
    }
   ],
   "source": [
    "subSetAnotherWay=df.drop([0,2,5])\n",
    "subSetAnotherWay"
   ]
  },
  {
   "cell_type": "code",
   "execution_count": 68,
   "id": "cc832327",
   "metadata": {},
   "outputs": [
    {
     "data": {
      "text/html": [
       "<div>\n",
       "<style scoped>\n",
       "    .dataframe tbody tr th:only-of-type {\n",
       "        vertical-align: middle;\n",
       "    }\n",
       "\n",
       "    .dataframe tbody tr th {\n",
       "        vertical-align: top;\n",
       "    }\n",
       "\n",
       "    .dataframe thead th {\n",
       "        text-align: right;\n",
       "    }\n",
       "</style>\n",
       "<table border=\"1\" class=\"dataframe\">\n",
       "  <thead>\n",
       "    <tr style=\"text-align: right;\">\n",
       "      <th></th>\n",
       "      <th>userID</th>\n",
       "      <th>ProductID</th>\n",
       "      <th>quantity</th>\n",
       "      <th>TransactionDate</th>\n",
       "      <th>TransactionID</th>\n",
       "    </tr>\n",
       "  </thead>\n",
       "  <tbody>\n",
       "    <tr>\n",
       "      <th>0</th>\n",
       "      <td>7.0</td>\n",
       "      <td>2</td>\n",
       "      <td>1</td>\n",
       "      <td>2010-08-21</td>\n",
       "      <td>1</td>\n",
       "    </tr>\n",
       "    <tr>\n",
       "      <th>1</th>\n",
       "      <td>3.0</td>\n",
       "      <td>4</td>\n",
       "      <td>1</td>\n",
       "      <td>2011-05-26</td>\n",
       "      <td>2</td>\n",
       "    </tr>\n",
       "    <tr>\n",
       "      <th>2</th>\n",
       "      <td>3.0</td>\n",
       "      <td>3</td>\n",
       "      <td>1</td>\n",
       "      <td>2011-06-16</td>\n",
       "      <td>3</td>\n",
       "    </tr>\n",
       "  </tbody>\n",
       "</table>\n",
       "</div>"
      ],
      "text/plain": [
       "   userID  ProductID  quantity TransactionDate  TransactionID\n",
       "0     7.0          2         1      2010-08-21              1\n",
       "1     3.0          4         1      2011-05-26              2\n",
       "2     3.0          3         1      2011-06-16              3"
      ]
     },
     "execution_count": 68,
     "metadata": {},
     "output_type": "execute_result"
    }
   ],
   "source": [
    "df.head(3)"
   ]
  },
  {
   "cell_type": "code",
   "execution_count": 69,
   "id": "50ba891e",
   "metadata": {},
   "outputs": [
    {
     "data": {
      "text/html": [
       "<div>\n",
       "<style scoped>\n",
       "    .dataframe tbody tr th:only-of-type {\n",
       "        vertical-align: middle;\n",
       "    }\n",
       "\n",
       "    .dataframe tbody tr th {\n",
       "        vertical-align: top;\n",
       "    }\n",
       "\n",
       "    .dataframe thead th {\n",
       "        text-align: right;\n",
       "    }\n",
       "</style>\n",
       "<table border=\"1\" class=\"dataframe\">\n",
       "  <thead>\n",
       "    <tr style=\"text-align: right;\">\n",
       "      <th></th>\n",
       "      <th>userID</th>\n",
       "      <th>ProductID</th>\n",
       "      <th>quantity</th>\n",
       "      <th>TransactionDate</th>\n",
       "      <th>TransactionID</th>\n",
       "    </tr>\n",
       "  </thead>\n",
       "  <tbody>\n",
       "    <tr>\n",
       "      <th>8</th>\n",
       "      <td>7.0</td>\n",
       "      <td>4</td>\n",
       "      <td>3</td>\n",
       "      <td>2015-04-24</td>\n",
       "      <td>9</td>\n",
       "    </tr>\n",
       "    <tr>\n",
       "      <th>9</th>\n",
       "      <td>3.0</td>\n",
       "      <td>4</td>\n",
       "      <td>4</td>\n",
       "      <td>2016-05-08</td>\n",
       "      <td>10</td>\n",
       "    </tr>\n",
       "  </tbody>\n",
       "</table>\n",
       "</div>"
      ],
      "text/plain": [
       "   userID  ProductID  quantity TransactionDate  TransactionID\n",
       "8     7.0          4         3      2015-04-24              9\n",
       "9     3.0          4         4      2016-05-08             10"
      ]
     },
     "execution_count": 69,
     "metadata": {},
     "output_type": "execute_result"
    }
   ],
   "source": [
    "df.tail(2)"
   ]
  },
  {
   "cell_type": "code",
   "execution_count": 74,
   "id": "c3b74f55",
   "metadata": {},
   "outputs": [
    {
     "data": {
      "text/html": [
       "<div>\n",
       "<style scoped>\n",
       "    .dataframe tbody tr th:only-of-type {\n",
       "        vertical-align: middle;\n",
       "    }\n",
       "\n",
       "    .dataframe tbody tr th {\n",
       "        vertical-align: top;\n",
       "    }\n",
       "\n",
       "    .dataframe thead th {\n",
       "        text-align: right;\n",
       "    }\n",
       "</style>\n",
       "<table border=\"1\" class=\"dataframe\">\n",
       "  <thead>\n",
       "    <tr style=\"text-align: right;\">\n",
       "      <th></th>\n",
       "      <th>userID</th>\n",
       "      <th>ProductID</th>\n",
       "      <th>quantity</th>\n",
       "      <th>TransactionDate</th>\n",
       "      <th>TransactionID</th>\n",
       "    </tr>\n",
       "  </thead>\n",
       "  <tbody>\n",
       "    <tr>\n",
       "      <th>0</th>\n",
       "      <td>7.0</td>\n",
       "      <td>2</td>\n",
       "      <td>1</td>\n",
       "      <td>2010-08-21</td>\n",
       "      <td>1</td>\n",
       "    </tr>\n",
       "    <tr>\n",
       "      <th>1</th>\n",
       "      <td>3.0</td>\n",
       "      <td>4</td>\n",
       "      <td>1</td>\n",
       "      <td>2011-05-26</td>\n",
       "      <td>2</td>\n",
       "    </tr>\n",
       "    <tr>\n",
       "      <th>2</th>\n",
       "      <td>3.0</td>\n",
       "      <td>3</td>\n",
       "      <td>1</td>\n",
       "      <td>2011-06-16</td>\n",
       "      <td>3</td>\n",
       "    </tr>\n",
       "    <tr>\n",
       "      <th>3</th>\n",
       "      <td>1.0</td>\n",
       "      <td>2</td>\n",
       "      <td>3</td>\n",
       "      <td>2012-08-26</td>\n",
       "      <td>4</td>\n",
       "    </tr>\n",
       "    <tr>\n",
       "      <th>4</th>\n",
       "      <td>2.0</td>\n",
       "      <td>4</td>\n",
       "      <td>1</td>\n",
       "      <td>2013-06-06</td>\n",
       "      <td>5</td>\n",
       "    </tr>\n",
       "    <tr>\n",
       "      <th>5</th>\n",
       "      <td>2.0</td>\n",
       "      <td>5</td>\n",
       "      <td>6</td>\n",
       "      <td>2013-12-23</td>\n",
       "      <td>6</td>\n",
       "    </tr>\n",
       "    <tr>\n",
       "      <th>6</th>\n",
       "      <td>3.0</td>\n",
       "      <td>4</td>\n",
       "      <td>1</td>\n",
       "      <td>2013-12-30</td>\n",
       "      <td>7</td>\n",
       "    </tr>\n",
       "    <tr>\n",
       "      <th>7</th>\n",
       "      <td>NaN</td>\n",
       "      <td>2</td>\n",
       "      <td>3</td>\n",
       "      <td>2014-04-24</td>\n",
       "      <td>8</td>\n",
       "    </tr>\n",
       "  </tbody>\n",
       "</table>\n",
       "</div>"
      ],
      "text/plain": [
       "   userID  ProductID  quantity TransactionDate  TransactionID\n",
       "0     7.0          2         1      2010-08-21              1\n",
       "1     3.0          4         1      2011-05-26              2\n",
       "2     3.0          3         1      2011-06-16              3\n",
       "3     1.0          2         3      2012-08-26              4\n",
       "4     2.0          4         1      2013-06-06              5\n",
       "5     2.0          5         6      2013-12-23              6\n",
       "6     3.0          4         1      2013-12-30              7\n",
       "7     NaN          2         3      2014-04-24              8"
      ]
     },
     "execution_count": 74,
     "metadata": {},
     "output_type": "execute_result"
    }
   ],
   "source": [
    "subSetAnotherWay=df.drop(index=df.index[-2:])\n",
    "subSetAnotherWay"
   ]
  },
  {
   "cell_type": "code",
   "execution_count": null,
   "id": "9ca635f3",
   "metadata": {},
   "outputs": [],
   "source": [
    "#Subset rows excluding the first 3 rows"
   ]
  },
  {
   "cell_type": "code",
   "execution_count": 75,
   "id": "9b464619",
   "metadata": {},
   "outputs": [
    {
     "data": {
      "text/html": [
       "<div>\n",
       "<style scoped>\n",
       "    .dataframe tbody tr th:only-of-type {\n",
       "        vertical-align: middle;\n",
       "    }\n",
       "\n",
       "    .dataframe tbody tr th {\n",
       "        vertical-align: top;\n",
       "    }\n",
       "\n",
       "    .dataframe thead th {\n",
       "        text-align: right;\n",
       "    }\n",
       "</style>\n",
       "<table border=\"1\" class=\"dataframe\">\n",
       "  <thead>\n",
       "    <tr style=\"text-align: right;\">\n",
       "      <th></th>\n",
       "      <th>userID</th>\n",
       "      <th>ProductID</th>\n",
       "      <th>quantity</th>\n",
       "      <th>TransactionDate</th>\n",
       "      <th>TransactionID</th>\n",
       "    </tr>\n",
       "  </thead>\n",
       "  <tbody>\n",
       "    <tr>\n",
       "      <th>0</th>\n",
       "      <td>7.0</td>\n",
       "      <td>2</td>\n",
       "      <td>1</td>\n",
       "      <td>2010-08-21</td>\n",
       "      <td>1</td>\n",
       "    </tr>\n",
       "  </tbody>\n",
       "</table>\n",
       "</div>"
      ],
      "text/plain": [
       "   userID  ProductID  quantity TransactionDate  TransactionID\n",
       "0     7.0          2         1      2010-08-21              1"
      ]
     },
     "execution_count": 75,
     "metadata": {},
     "output_type": "execute_result"
    }
   ],
   "source": [
    "subSetAnotherWay=df.drop(index=df.index[1:])\n",
    "subSetAnotherWay"
   ]
  },
  {
   "cell_type": "code",
   "execution_count": null,
   "id": "bb92febd",
   "metadata": {},
   "outputs": [],
   "source": []
  }
 ],
 "metadata": {
  "kernelspec": {
   "display_name": "Python 3 (ipykernel)",
   "language": "python",
   "name": "python3"
  },
  "language_info": {
   "codemirror_mode": {
    "name": "ipython",
    "version": 3
   },
   "file_extension": ".py",
   "mimetype": "text/x-python",
   "name": "python",
   "nbconvert_exporter": "python",
   "pygments_lexer": "ipython3",
   "version": "3.12.3"
  }
 },
 "nbformat": 4,
 "nbformat_minor": 5
}
